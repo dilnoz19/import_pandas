{
 "cells": [
  {
   "cell_type": "code",
   "execution_count": 73,
   "id": "c56fb202",
   "metadata": {},
   "outputs": [],
   "source": [
    "import pandas as pd"
   ]
  },
  {
   "cell_type": "code",
   "execution_count": 74,
   "id": "0dc39ca0",
   "metadata": {},
   "outputs": [
    {
     "data": {
      "text/plain": [
       "0    10\n",
       "1    20\n",
       "2    30\n",
       "3    40\n",
       "4    50\n",
       "dtype: int64"
      ]
     },
     "execution_count": 74,
     "metadata": {},
     "output_type": "execute_result"
    }
   ],
   "source": [
    "list1 = [10, 20, 30, 40, 50]\n",
    "s1 = pd.Series(list1)\n",
    "\n",
    "s1"
   ]
  },
  {
   "cell_type": "code",
   "execution_count": 75,
   "id": "bcdca019",
   "metadata": {},
   "outputs": [
    {
     "data": {
      "text/plain": [
       "0    apples\n",
       "1    banana\n",
       "2    cherry\n",
       "dtype: object"
      ]
     },
     "execution_count": 75,
     "metadata": {},
     "output_type": "execute_result"
    }
   ],
   "source": [
    "tuple1 = (\"apples\", \"banana\", \"cherry\")\n",
    "s_tuple = pd.Series(tuple1)\n",
    "\n",
    "s_tuple"
   ]
  },
  {
   "cell_type": "code",
   "execution_count": 76,
   "id": "50dfcb8e",
   "metadata": {},
   "outputs": [
    {
     "data": {
      "text/plain": [
       "brand       Ford\n",
       "model    Mustang\n",
       "year        1964\n",
       "dtype: object"
      ]
     },
     "execution_count": 76,
     "metadata": {},
     "output_type": "execute_result"
    }
   ],
   "source": [
    "dict1 = {\"brand\": \"Ford\", \"model\": \"Mustang\", \"year\": 1964}\n",
    "\n",
    "s_dictionary = pd.Series(dict1)\n",
    "\n",
    "s_dictionary"
   ]
  },
  {
   "cell_type": "code",
   "execution_count": 77,
   "id": "5d7d9c34",
   "metadata": {},
   "outputs": [
    {
     "name": "stdout",
     "output_type": "stream",
     "text": [
      "The s1 series values are: [10 20 30 40 50]\n",
      "The s1 index values are: RangeIndex(start=0, stop=5, step=1)\n",
      "\n",
      "\n",
      "The s_tuple series values are: ['apples' 'banana' 'cherry']\n",
      "The s_tuple index values are: RangeIndex(start=0, stop=3, step=1)\n",
      "\n",
      "\n",
      "The s_dictionary series values are: ['Ford' 'Mustang' 1964]\n",
      "The s_dictionary index values are: Index(['brand', 'model', 'year'], dtype='object')\n"
     ]
    }
   ],
   "source": [
    "print(\"The s1 series values are:\", pd.Series(s1).values)\n",
    "print(\"The s1 index values are:\", pd.Series(s1).index)\n",
    "print(\"\\n\")\n",
    "print(\"The s_tuple series values are:\", pd.Series(s_tuple).values)\n",
    "print(\"The s_tuple index values are:\", pd.Series(s_tuple).index)\n",
    "print(\"\\n\")\n",
    "print(\"The s_dictionary series values are:\", pd.Series(s_dictionary).values)\n",
    "print(\"The s_dictionary index values are:\", pd.Series(s_dictionary).index)"
   ]
  },
  {
   "cell_type": "code",
   "execution_count": 78,
   "id": "2fb6f5be",
   "metadata": {},
   "outputs": [
    {
     "name": "stdout",
     "output_type": "stream",
     "text": [
      "The Marks obtained by student are \n",
      " English    80\n",
      "Science    93\n",
      "Social     78\n",
      "Tamil      85\n",
      "Maths      97\n",
      "dtype: int64\n"
     ]
    },
    {
     "data": {
      "text/plain": [
       "English    80\n",
       "Science    93\n",
       "Social     78\n",
       "Tamil      85\n",
       "Maths      97\n",
       "dtype: int64"
      ]
     },
     "execution_count": 78,
     "metadata": {},
     "output_type": "execute_result"
    }
   ],
   "source": [
    "s2 = pd.Series([80,93,78,85,97], index=['English','Science','Social','Tamil','Maths'])\n",
    "print(\"The Marks obtained by student are\", \"\\n\",s2)\n",
    "s2"
   ]
  },
  {
   "cell_type": "code",
   "execution_count": 79,
   "id": "a8d72677",
   "metadata": {},
   "outputs": [
    {
     "data": {
      "text/plain": [
       "Subjects\n",
       "English    80\n",
       "Science    93\n",
       "Social     78\n",
       "Tamil      85\n",
       "Maths      97\n",
       "Name: Student Marks, dtype: int64"
      ]
     },
     "execution_count": 79,
     "metadata": {},
     "output_type": "execute_result"
    }
   ],
   "source": [
    "s2.name = \"Student Marks\"\n",
    "\n",
    "s2.index.name = \"Subjects\"\n",
    "s2"
   ]
  },
  {
   "cell_type": "code",
   "execution_count": 80,
   "id": "63dccb0f",
   "metadata": {},
   "outputs": [
    {
     "data": {
      "text/plain": [
       "Subjects\n",
       "English    80\n",
       "Science    93\n",
       "Social     78\n",
       "Tamil      85\n",
       "Maths      97\n",
       "Name: Student Marks, dtype: int64"
      ]
     },
     "execution_count": 80,
     "metadata": {},
     "output_type": "execute_result"
    }
   ],
   "source": [
    "s2"
   ]
  },
  {
   "cell_type": "code",
   "execution_count": 81,
   "id": "c7e1d455",
   "metadata": {},
   "outputs": [
    {
     "data": {
      "text/plain": [
       "Subjects\n",
       "English    80\n",
       "Name: Student Marks, dtype: int64"
      ]
     },
     "execution_count": 81,
     "metadata": {},
     "output_type": "execute_result"
    }
   ],
   "source": [
    "s2.head(1)"
   ]
  },
  {
   "cell_type": "code",
   "execution_count": 82,
   "id": "2e74ab07",
   "metadata": {},
   "outputs": [
    {
     "data": {
      "text/plain": [
       "Subjects\n",
       "Science    93\n",
       "Social     78\n",
       "Tamil      85\n",
       "Name: Student Marks, dtype: int64"
      ]
     },
     "execution_count": 82,
     "metadata": {},
     "output_type": "execute_result"
    }
   ],
   "source": [
    "s2[1:4]"
   ]
  },
  {
   "cell_type": "code",
   "execution_count": 83,
   "id": "b2a1d59e",
   "metadata": {},
   "outputs": [
    {
     "data": {
      "text/plain": [
       "85"
      ]
     },
     "execution_count": 83,
     "metadata": {},
     "output_type": "execute_result"
    }
   ],
   "source": [
    "s2['Tamil']"
   ]
  },
  {
   "cell_type": "code",
   "execution_count": 84,
   "id": "d875783d",
   "metadata": {},
   "outputs": [
    {
     "name": "stdout",
     "output_type": "stream",
     "text": [
      "Fruits and pricesn \n",
      " Orange         80\n",
      "Apples        210\n",
      "Bananas        50\n",
      "Grapes         90\n",
      "Watermelon     70\n",
      "dtype: int64\n"
     ]
    }
   ],
   "source": [
    "dict_fruits = { 'Orange':80,\n",
    "          'Apples':210,\n",
    "          'Bananas':50,\n",
    "         'Grapes':90,\n",
    "         'Watermelon':70}\n",
    "\n",
    "fruits = pd.Series(dict_fruits)\n",
    "print(\"Fruits and pricesn\",\"\\n\",fruits)"
   ]
  },
  {
   "cell_type": "code",
   "execution_count": 85,
   "id": "b092bb13",
   "metadata": {},
   "outputs": [
    {
     "name": "stdout",
     "output_type": "stream",
     "text": [
      "The price per kg of grapes is: 90\n"
     ]
    }
   ],
   "source": [
    "print(\"The price per kg of grapes is:\", fruits['Grapes'])"
   ]
  },
  {
   "cell_type": "code",
   "execution_count": 86,
   "id": "0a4abb20",
   "metadata": {},
   "outputs": [
    {
     "data": {
      "text/plain": [
       "Subjects\n",
       "English    80\n",
       "Science    93\n",
       "Social     78\n",
       "Tamil      85\n",
       "Maths      97\n",
       "Name: Student Marks, dtype: int64"
      ]
     },
     "execution_count": 86,
     "metadata": {},
     "output_type": "execute_result"
    }
   ],
   "source": [
    "s2"
   ]
  },
  {
   "cell_type": "code",
   "execution_count": 93,
   "id": "a8ec7086",
   "metadata": {},
   "outputs": [
    {
     "name": "stdout",
     "output_type": "stream",
     "text": [
      "The dataframe created from series is \n",
      "          Student1\n",
      "English        80\n",
      "Science        93\n",
      "Social         78\n",
      "Tamil          85\n",
      "Maths          97\n"
     ]
    }
   ],
   "source": [
    "import pandas as pd\n",
    "s2 = pd.Series([80,93,78,85,97], index=['English','Science','Social','Tamil','Maths'])\n",
    "df_marks = pd.DataFrame(s2, columns=['Student1'])\n",
    "print(\"The dataframe created from series is\",\"\\n\",df_marks)\n"
   ]
  },
  {
   "cell_type": "code",
   "execution_count": 94,
   "id": "c50835fd",
   "metadata": {},
   "outputs": [],
   "source": [
    "height = pd.Series([5.3, 6.2,5.8,5.0,5.5], index=['Person 1','Person 2','Person 3','Person 4','Person 5'])\n",
    "weight = pd.Series([65,89,75,60,59], index=['Person 1','Person 2','Person 3','Person 4','Person 5'])"
   ]
  },
  {
   "cell_type": "code",
   "execution_count": 96,
   "id": "3676a67d",
   "metadata": {},
   "outputs": [
    {
     "name": "stdout",
     "output_type": "stream",
     "text": [
      "The Person table details are: \n",
      "           height  weight\n",
      "Person 1     5.3      65\n",
      "Person 2     6.2      89\n",
      "Person 3     5.8      75\n",
      "Person 4     5.0      60\n",
      "Person 5     5.5      59\n"
     ]
    }
   ],
   "source": [
    "df_person = pd.DataFrame({'height': height, 'weight': weight})\n",
    "print(\"The Person table details are:\",\"\\n\", df_person)"
   ]
  },
  {
   "cell_type": "code",
   "execution_count": null,
   "id": "5d80d2a5",
   "metadata": {},
   "outputs": [],
   "source": []
  }
 ],
 "metadata": {
  "kernelspec": {
   "display_name": "Python 3 (ipykernel)",
   "language": "python",
   "name": "python3"
  },
  "language_info": {
   "codemirror_mode": {
    "name": "ipython",
    "version": 3
   },
   "file_extension": ".py",
   "mimetype": "text/x-python",
   "name": "python",
   "nbconvert_exporter": "python",
   "pygments_lexer": "ipython3",
   "version": "3.9.13"
  }
 },
 "nbformat": 4,
 "nbformat_minor": 5
}
